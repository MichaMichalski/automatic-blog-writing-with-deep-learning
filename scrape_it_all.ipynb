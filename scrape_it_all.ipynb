{
 "cells": [
  {
   "cell_type": "code",
   "execution_count": null,
   "source": [
    "import newspaper\n",
    "import requests\n",
    "from bs4 import BeautifulSoup\n",
    "import psycopg2"
   ],
   "outputs": [],
   "metadata": {}
  },
  {
   "cell_type": "code",
   "execution_count": null,
   "source": [
    "blog = newspaper.Source('https://foxnomad.com/blog/')\n",
    "blog.build()\n",
    "blog.size()"
   ],
   "outputs": [],
   "metadata": {}
  },
  {
   "cell_type": "code",
   "execution_count": null,
   "source": [
    "conn = psycopg2.connect(host='localhost', user='postgres', password='postgres', port=5432, database='blogscrapes')"
   ],
   "outputs": [],
   "metadata": {}
  },
  {
   "cell_type": "code",
   "execution_count": null,
   "source": [
    "cur = conn.cursor()"
   ],
   "outputs": [],
   "metadata": {}
  },
  {
   "cell_type": "code",
   "execution_count": null,
   "source": [
    "# This will get the links for all blogposts on foxnomad.com\n",
    "pagelink = 'https://foxnomad.com/blog/'\n",
    "while True:\n",
    "    try:\n",
    "        res = requests.get(pagelink)\n",
    "        soup = BeautifulSoup(res.text)\n",
    "        for post in soup.select('.post-title'):\n",
    "            link = post.select('a')[0]['href']\n",
    "            article = newspaper.Article(link, fetch_images=False)\n",
    "            article.download()\n",
    "            article.parse()\n",
    "            article.nlp()\n",
    "            thetext = article.text\n",
    "            summary = article.summary\n",
    "            sql = \"\"\"\n",
    "            INSERT INTO scrapes (url, text_data, summary) VALUES (%s, %s, %s);\n",
    "            \"\"\"\n",
    "            cur.execute(sql, (link, thetext, summary))\n",
    "            conn.commit()\n",
    "        pagelink = soup.select('a.next')[0]['href']\n",
    "    except IndexError:\n",
    "        print('Seems like all has been scraped. Let\\'s move on :\\)')\n",
    "        break"
   ],
   "outputs": [],
   "metadata": {}
  }
 ],
 "metadata": {
  "kernelspec": {
   "display_name": "deep_learn_spiced",
   "language": "python",
   "name": "deep_learn_spiced"
  },
  "language_info": {
   "codemirror_mode": {
    "name": "ipython",
    "version": 3
   },
   "file_extension": ".py",
   "mimetype": "text/x-python",
   "name": "python",
   "nbconvert_exporter": "python",
   "pygments_lexer": "ipython3",
   "version": "3.9.6"
  }
 },
 "nbformat": 4,
 "nbformat_minor": 5
}
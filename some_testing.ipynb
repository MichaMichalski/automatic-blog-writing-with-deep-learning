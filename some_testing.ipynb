{
 "cells": [
  {
   "cell_type": "code",
   "execution_count": 1,
   "id": "dd490da8-9089-45ce-98cb-45fcc0a49a94",
   "metadata": {},
   "outputs": [],
   "source": [
    "import newspaper"
   ]
  },
  {
   "cell_type": "code",
   "execution_count": 14,
   "id": "7225e650-893d-4c36-b1ac-6f8273ef4e2c",
   "metadata": {},
   "outputs": [],
   "source": [
    "article = newspaper.Article('https://followtheboat.com/whats-it-like-to-live-on-a-sailboat/')"
   ]
  },
  {
   "cell_type": "code",
   "execution_count": 15,
   "id": "52e33c22-6480-46e8-b2e7-8a4f26d34922",
   "metadata": {},
   "outputs": [],
   "source": [
    "article.download()"
   ]
  },
  {
   "cell_type": "code",
   "execution_count": 16,
   "id": "04c12575-4cf6-48e8-bc9b-10e5ba5f74f9",
   "metadata": {},
   "outputs": [],
   "source": [
    "article.parse()"
   ]
  },
  {
   "cell_type": "code",
   "execution_count": 17,
   "id": "83b3548d-fa7a-4843-8847-0e95cdc193d5",
   "metadata": {},
   "outputs": [],
   "source": [
    "article.nlp()"
   ]
  },
  {
   "cell_type": "code",
   "execution_count": 18,
   "id": "ba9a821b-07b6-4942-960c-3b9a6ffe0055",
   "metadata": {},
   "outputs": [
    {
     "data": {
      "text/plain": [
       "'What is it like to live on a sailboat?\\nSailing, diving, fishing, swimming, beach barbecues, what’s not to love about this cruising and liveaboard lifestyle… That’s, of course, when the sailboat is running smoothly and the weather is on your side!\\nSometimes the stars are aligned and circumstances are just right for some sailing, a little diving, fishing for mackerel and a laid-back barbecue with friends.\\nThis episode is an example of the essence of life on a sailboat, the days that we all aspire to.\\nWe take a look at Liz’s new fishing rig set-up, but there is a disappointing fish fail in this week’s video!'"
      ]
     },
     "execution_count": 18,
     "metadata": {},
     "output_type": "execute_result"
    }
   ],
   "source": [
    "article.summary"
   ]
  },
  {
   "cell_type": "code",
   "execution_count": null,
   "id": "31851c22-9b28-4eef-b5a9-aa987909ac35",
   "metadata": {},
   "outputs": [],
   "source": []
  }
 ],
 "metadata": {
  "kernelspec": {
   "display_name": "Python 3",
   "language": "python",
   "name": "python3"
  },
  "language_info": {
   "codemirror_mode": {
    "name": "ipython",
    "version": 3
   },
   "file_extension": ".py",
   "mimetype": "text/x-python",
   "name": "python",
   "nbconvert_exporter": "python",
   "pygments_lexer": "ipython3",
   "version": "3.8.8"
  }
 },
 "nbformat": 4,
 "nbformat_minor": 5
}
